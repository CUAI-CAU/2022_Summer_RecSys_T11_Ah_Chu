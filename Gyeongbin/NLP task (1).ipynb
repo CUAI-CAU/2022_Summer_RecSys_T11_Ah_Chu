{
 "cells": [
  {
   "cell_type": "code",
   "execution_count": 2,
   "id": "af832135",
   "metadata": {},
   "outputs": [],
   "source": [
    "import pandas as pd\n",
    "import gzip\n",
    "\n",
    "def parse(path):\n",
    "  g = gzip.open(path, 'rb')\n",
    "  for l in g:\n",
    "    yield eval(l)\n",
    "\n",
    "def getDF(path):\n",
    "  i = 0\n",
    "  df = {}\n",
    "  for d in parse(path):\n",
    "    df[i] = d\n",
    "    i += 1\n",
    "  return pd.DataFrame.from_dict(df, orient='index')\n",
    "\n",
    "df = getDF('meta_Grocery_and_Gourmet_Food.json.gz')"
   ]
  },
  {
   "cell_type": "code",
   "execution_count": 3,
   "id": "c576db51",
   "metadata": {},
   "outputs": [
    {
     "name": "stdout",
     "output_type": "stream",
     "text": [
      "<class 'pandas.core.frame.DataFrame'>\n",
      "Int64Index: 287051 entries, 0 to 287050\n",
      "Data columns (total 19 columns):\n",
      " #   Column           Non-Null Count   Dtype \n",
      "---  ------           --------------   ----- \n",
      " 0   category         287051 non-null  object\n",
      " 1   tech1            287051 non-null  object\n",
      " 2   description      287051 non-null  object\n",
      " 3   fit              287051 non-null  object\n",
      " 4   title            287051 non-null  object\n",
      " 5   also_buy         287051 non-null  object\n",
      " 6   tech2            287051 non-null  object\n",
      " 7   brand            287051 non-null  object\n",
      " 8   feature          287051 non-null  object\n",
      " 9   rank             287051 non-null  object\n",
      " 10  also_view        287051 non-null  object\n",
      " 11  main_cat         287051 non-null  object\n",
      " 12  similar_item     287051 non-null  object\n",
      " 13  date             287051 non-null  object\n",
      " 14  price            287051 non-null  object\n",
      " 15  asin             287051 non-null  object\n",
      " 16  imageURL         287051 non-null  object\n",
      " 17  imageURLHighRes  287051 non-null  object\n",
      " 18  details          287027 non-null  object\n",
      "dtypes: object(19)\n",
      "memory usage: 43.8+ MB\n"
     ]
    }
   ],
   "source": [
    "df.info()"
   ]
  },
  {
   "cell_type": "code",
   "execution_count": 4,
   "id": "7e9070df",
   "metadata": {},
   "outputs": [
    {
     "data": {
      "text/plain": [
       "[\"Green Tea Flavor Kit Kat have quickly become the most sought after snack from Japan. Here are a limited supply of Maccha Green Tea flavored Kit Kat that you would not want to miss. These epic snacks have a sweet maccha green tea flavor mixed with creamy white chocolate, on a crispy wafer that Nestle's has perfected. Each bag contains 12 individually wrapped bars.\",\n",
       " 'Statements regarding dietary supplements have not been evaluated by the FDA and are not intended to diagnose, treat, cure, or prevent any disease or health condition.']"
      ]
     },
     "execution_count": 4,
     "metadata": {},
     "output_type": "execute_result"
    }
   ],
   "source": [
    "df['description'][20]"
   ]
  },
  {
   "cell_type": "code",
   "execution_count": 14,
   "id": "be1ce09a",
   "metadata": {},
   "outputs": [],
   "source": [
    "df_yt = df[['title', 'description']]"
   ]
  },
  {
   "cell_type": "code",
   "execution_count": 15,
   "id": "13e86573",
   "metadata": {},
   "outputs": [
    {
     "data": {
      "text/html": [
       "<div>\n",
       "<style scoped>\n",
       "    .dataframe tbody tr th:only-of-type {\n",
       "        vertical-align: middle;\n",
       "    }\n",
       "\n",
       "    .dataframe tbody tr th {\n",
       "        vertical-align: top;\n",
       "    }\n",
       "\n",
       "    .dataframe thead th {\n",
       "        text-align: right;\n",
       "    }\n",
       "</style>\n",
       "<table border=\"1\" class=\"dataframe\">\n",
       "  <thead>\n",
       "    <tr style=\"text-align: right;\">\n",
       "      <th></th>\n",
       "      <th>title</th>\n",
       "      <th>description</th>\n",
       "    </tr>\n",
       "  </thead>\n",
       "  <tbody>\n",
       "    <tr>\n",
       "      <th>0</th>\n",
       "      <td>Beemster Gouda - Aged 18/24 Months - App. 1.5 Lbs</td>\n",
       "      <td>[BEEMSTER GOUDA CHEESE AGED 18/24 MONTHS, Stat...</td>\n",
       "    </tr>\n",
       "    <tr>\n",
       "      <th>1</th>\n",
       "      <td>Trim Healthy Mama Xylitol</td>\n",
       "      <td>[Shipped from UK, please allow 10 to 21 busine...</td>\n",
       "    </tr>\n",
       "    <tr>\n",
       "      <th>2</th>\n",
       "      <td>Letter C - Swarovski Crystal Monogram Wedding ...</td>\n",
       "      <td>[Jazz up your cakes with a sparkling monogram ...</td>\n",
       "    </tr>\n",
       "    <tr>\n",
       "      <th>3</th>\n",
       "      <td>Letter H - Swarovski Crystal Monogram Wedding ...</td>\n",
       "      <td>[Large Letter - Height 4.75\"]</td>\n",
       "    </tr>\n",
       "    <tr>\n",
       "      <th>4</th>\n",
       "      <td>Letter S - Swarovski Crystal Monogram Wedding ...</td>\n",
       "      <td>[4.75\"]</td>\n",
       "    </tr>\n",
       "    <tr>\n",
       "      <th>...</th>\n",
       "      <td>...</td>\n",
       "      <td>...</td>\n",
       "    </tr>\n",
       "    <tr>\n",
       "      <th>287046</th>\n",
       "      <td>Caffarel Fruit Jellies, Organic Assorted, 200 ...</td>\n",
       "      <td>[Caffarel fruit jellies are a product of Italy...</td>\n",
       "    </tr>\n",
       "    <tr>\n",
       "      <th>287047</th>\n",
       "      <td>HAMPTON CREEK Spo Just Truffle Mayo, 12 Ounce</td>\n",
       "      <td>[Hampton Creeks Just Mayo Truffle makes fancy ...</td>\n",
       "    </tr>\n",
       "    <tr>\n",
       "      <th>287048</th>\n",
       "      <td>HAMPTON CREEK Just Ranch Dressing, 12 Fluid Ounce</td>\n",
       "      <td>[Nothing compares with the classically zesty f...</td>\n",
       "    </tr>\n",
       "    <tr>\n",
       "      <th>287049</th>\n",
       "      <td>Gourmet Pure Vanilla Bean Pastes - Organically...</td>\n",
       "      <td>[]</td>\n",
       "    </tr>\n",
       "    <tr>\n",
       "      <th>287050</th>\n",
       "      <td>McClure's Pickles Bloody Mary Mix-Spicy-32 oz ...</td>\n",
       "      <td>[McClures Spicy Bloody Mary Mix Pickles, 32 Ou...</td>\n",
       "    </tr>\n",
       "  </tbody>\n",
       "</table>\n",
       "<p>287051 rows × 2 columns</p>\n",
       "</div>"
      ],
      "text/plain": [
       "                                                    title  \\\n",
       "0       Beemster Gouda - Aged 18/24 Months - App. 1.5 Lbs   \n",
       "1                               Trim Healthy Mama Xylitol   \n",
       "2       Letter C - Swarovski Crystal Monogram Wedding ...   \n",
       "3       Letter H - Swarovski Crystal Monogram Wedding ...   \n",
       "4       Letter S - Swarovski Crystal Monogram Wedding ...   \n",
       "...                                                   ...   \n",
       "287046  Caffarel Fruit Jellies, Organic Assorted, 200 ...   \n",
       "287047      HAMPTON CREEK Spo Just Truffle Mayo, 12 Ounce   \n",
       "287048  HAMPTON CREEK Just Ranch Dressing, 12 Fluid Ounce   \n",
       "287049  Gourmet Pure Vanilla Bean Pastes - Organically...   \n",
       "287050  McClure's Pickles Bloody Mary Mix-Spicy-32 oz ...   \n",
       "\n",
       "                                              description  \n",
       "0       [BEEMSTER GOUDA CHEESE AGED 18/24 MONTHS, Stat...  \n",
       "1       [Shipped from UK, please allow 10 to 21 busine...  \n",
       "2       [Jazz up your cakes with a sparkling monogram ...  \n",
       "3                           [Large Letter - Height 4.75\"]  \n",
       "4                                                 [4.75\"]  \n",
       "...                                                   ...  \n",
       "287046  [Caffarel fruit jellies are a product of Italy...  \n",
       "287047  [Hampton Creeks Just Mayo Truffle makes fancy ...  \n",
       "287048  [Nothing compares with the classically zesty f...  \n",
       "287049                                                 []  \n",
       "287050  [McClures Spicy Bloody Mary Mix Pickles, 32 Ou...  \n",
       "\n",
       "[287051 rows x 2 columns]"
      ]
     },
     "execution_count": 15,
     "metadata": {},
     "output_type": "execute_result"
    }
   ],
   "source": [
    "df_yt"
   ]
  },
  {
   "cell_type": "code",
   "execution_count": 17,
   "id": "8cbe1a12",
   "metadata": {},
   "outputs": [
    {
     "data": {
      "text/plain": [
       "287051"
      ]
     },
     "execution_count": 17,
     "metadata": {},
     "output_type": "execute_result"
    }
   ],
   "source": [
    "len(df_yt)"
   ]
  },
  {
   "cell_type": "code",
   "execution_count": 18,
   "id": "5aa81ae4",
   "metadata": {},
   "outputs": [],
   "source": [
    "def listToString(str_list):\n",
    "    result=\"\"\n",
    "    for s in str_list:\n",
    "        result+=s+\" \"\n",
    "    return result.strip()"
   ]
  },
  {
   "cell_type": "code",
   "execution_count": 19,
   "id": "7c724394",
   "metadata": {},
   "outputs": [
    {
     "name": "stderr",
     "output_type": "stream",
     "text": [
      "/tmp/ipykernel_45169/4104301745.py:1: SettingWithCopyWarning: \n",
      "A value is trying to be set on a copy of a slice from a DataFrame.\n",
      "Try using .loc[row_indexer,col_indexer] = value instead\n",
      "\n",
      "See the caveats in the documentation: https://pandas.pydata.org/pandas-docs/stable/user_guide/indexing.html#returning-a-view-versus-a-copy\n",
      "  df_yt['string_description'] = df_yt['description'].apply(lambda x: listToString(x))\n"
     ]
    }
   ],
   "source": [
    "df_yt['string_description'] = df_yt['description'].apply(lambda x: listToString(x))"
   ]
  },
  {
   "cell_type": "code",
   "execution_count": 20,
   "id": "fa0337fb",
   "metadata": {},
   "outputs": [
    {
     "data": {
      "text/html": [
       "<div>\n",
       "<style scoped>\n",
       "    .dataframe tbody tr th:only-of-type {\n",
       "        vertical-align: middle;\n",
       "    }\n",
       "\n",
       "    .dataframe tbody tr th {\n",
       "        vertical-align: top;\n",
       "    }\n",
       "\n",
       "    .dataframe thead th {\n",
       "        text-align: right;\n",
       "    }\n",
       "</style>\n",
       "<table border=\"1\" class=\"dataframe\">\n",
       "  <thead>\n",
       "    <tr style=\"text-align: right;\">\n",
       "      <th></th>\n",
       "      <th>title</th>\n",
       "      <th>description</th>\n",
       "      <th>string_description</th>\n",
       "    </tr>\n",
       "  </thead>\n",
       "  <tbody>\n",
       "    <tr>\n",
       "      <th>0</th>\n",
       "      <td>Beemster Gouda - Aged 18/24 Months - App. 1.5 Lbs</td>\n",
       "      <td>[BEEMSTER GOUDA CHEESE AGED 18/24 MONTHS, Stat...</td>\n",
       "      <td>BEEMSTER GOUDA CHEESE AGED 18/24 MONTHS Statem...</td>\n",
       "    </tr>\n",
       "    <tr>\n",
       "      <th>1</th>\n",
       "      <td>Trim Healthy Mama Xylitol</td>\n",
       "      <td>[Shipped from UK, please allow 10 to 21 busine...</td>\n",
       "      <td>Shipped from UK, please allow 10 to 21 busines...</td>\n",
       "    </tr>\n",
       "    <tr>\n",
       "      <th>2</th>\n",
       "      <td>Letter C - Swarovski Crystal Monogram Wedding ...</td>\n",
       "      <td>[Jazz up your cakes with a sparkling monogram ...</td>\n",
       "      <td>Jazz up your cakes with a sparkling monogram f...</td>\n",
       "    </tr>\n",
       "    <tr>\n",
       "      <th>3</th>\n",
       "      <td>Letter H - Swarovski Crystal Monogram Wedding ...</td>\n",
       "      <td>[Large Letter - Height 4.75\"]</td>\n",
       "      <td>Large Letter - Height 4.75\"</td>\n",
       "    </tr>\n",
       "    <tr>\n",
       "      <th>4</th>\n",
       "      <td>Letter S - Swarovski Crystal Monogram Wedding ...</td>\n",
       "      <td>[4.75\"]</td>\n",
       "      <td>4.75\"</td>\n",
       "    </tr>\n",
       "    <tr>\n",
       "      <th>...</th>\n",
       "      <td>...</td>\n",
       "      <td>...</td>\n",
       "      <td>...</td>\n",
       "    </tr>\n",
       "    <tr>\n",
       "      <th>287046</th>\n",
       "      <td>Caffarel Fruit Jellies, Organic Assorted, 200 ...</td>\n",
       "      <td>[Caffarel fruit jellies are a product of Italy...</td>\n",
       "      <td>Caffarel fruit jellies are a product of Italy....</td>\n",
       "    </tr>\n",
       "    <tr>\n",
       "      <th>287047</th>\n",
       "      <td>HAMPTON CREEK Spo Just Truffle Mayo, 12 Ounce</td>\n",
       "      <td>[Hampton Creeks Just Mayo Truffle makes fancy ...</td>\n",
       "      <td>Hampton Creeks Just Mayo Truffle makes fancy f...</td>\n",
       "    </tr>\n",
       "    <tr>\n",
       "      <th>287048</th>\n",
       "      <td>HAMPTON CREEK Just Ranch Dressing, 12 Fluid Ounce</td>\n",
       "      <td>[Nothing compares with the classically zesty f...</td>\n",
       "      <td>Nothing compares with the classically zesty fl...</td>\n",
       "    </tr>\n",
       "    <tr>\n",
       "      <th>287049</th>\n",
       "      <td>Gourmet Pure Vanilla Bean Pastes - Organically...</td>\n",
       "      <td>[]</td>\n",
       "      <td></td>\n",
       "    </tr>\n",
       "    <tr>\n",
       "      <th>287050</th>\n",
       "      <td>McClure's Pickles Bloody Mary Mix-Spicy-32 oz ...</td>\n",
       "      <td>[McClures Spicy Bloody Mary Mix Pickles, 32 Ou...</td>\n",
       "      <td>McClures Spicy Bloody Mary Mix Pickles, 32 Oun...</td>\n",
       "    </tr>\n",
       "  </tbody>\n",
       "</table>\n",
       "<p>287051 rows × 3 columns</p>\n",
       "</div>"
      ],
      "text/plain": [
       "                                                    title  \\\n",
       "0       Beemster Gouda - Aged 18/24 Months - App. 1.5 Lbs   \n",
       "1                               Trim Healthy Mama Xylitol   \n",
       "2       Letter C - Swarovski Crystal Monogram Wedding ...   \n",
       "3       Letter H - Swarovski Crystal Monogram Wedding ...   \n",
       "4       Letter S - Swarovski Crystal Monogram Wedding ...   \n",
       "...                                                   ...   \n",
       "287046  Caffarel Fruit Jellies, Organic Assorted, 200 ...   \n",
       "287047      HAMPTON CREEK Spo Just Truffle Mayo, 12 Ounce   \n",
       "287048  HAMPTON CREEK Just Ranch Dressing, 12 Fluid Ounce   \n",
       "287049  Gourmet Pure Vanilla Bean Pastes - Organically...   \n",
       "287050  McClure's Pickles Bloody Mary Mix-Spicy-32 oz ...   \n",
       "\n",
       "                                              description  \\\n",
       "0       [BEEMSTER GOUDA CHEESE AGED 18/24 MONTHS, Stat...   \n",
       "1       [Shipped from UK, please allow 10 to 21 busine...   \n",
       "2       [Jazz up your cakes with a sparkling monogram ...   \n",
       "3                           [Large Letter - Height 4.75\"]   \n",
       "4                                                 [4.75\"]   \n",
       "...                                                   ...   \n",
       "287046  [Caffarel fruit jellies are a product of Italy...   \n",
       "287047  [Hampton Creeks Just Mayo Truffle makes fancy ...   \n",
       "287048  [Nothing compares with the classically zesty f...   \n",
       "287049                                                 []   \n",
       "287050  [McClures Spicy Bloody Mary Mix Pickles, 32 Ou...   \n",
       "\n",
       "                                       string_description  \n",
       "0       BEEMSTER GOUDA CHEESE AGED 18/24 MONTHS Statem...  \n",
       "1       Shipped from UK, please allow 10 to 21 busines...  \n",
       "2       Jazz up your cakes with a sparkling monogram f...  \n",
       "3                             Large Letter - Height 4.75\"  \n",
       "4                                                   4.75\"  \n",
       "...                                                   ...  \n",
       "287046  Caffarel fruit jellies are a product of Italy....  \n",
       "287047  Hampton Creeks Just Mayo Truffle makes fancy f...  \n",
       "287048  Nothing compares with the classically zesty fl...  \n",
       "287049                                                     \n",
       "287050  McClures Spicy Bloody Mary Mix Pickles, 32 Oun...  \n",
       "\n",
       "[287051 rows x 3 columns]"
      ]
     },
     "execution_count": 20,
     "metadata": {},
     "output_type": "execute_result"
    }
   ],
   "source": [
    "df_yt"
   ]
  },
  {
   "cell_type": "code",
   "execution_count": 23,
   "id": "c24d4e53",
   "metadata": {},
   "outputs": [
    {
     "name": "stderr",
     "output_type": "stream",
     "text": [
      "/tmp/ipykernel_45169/214675034.py:3: SettingWithCopyWarning: \n",
      "A value is trying to be set on a copy of a slice from a DataFrame.\n",
      "Try using .loc[row_indexer,col_indexer] = value instead\n",
      "\n",
      "See the caveats in the documentation: https://pandas.pydata.org/pandas-docs/stable/user_guide/indexing.html#returning-a-view-versus-a-copy\n",
      "  df_yt['cleaned_description'] = df_yt['string_description'].apply(lambda x: x.lower())\n",
      "/tmp/ipykernel_45169/214675034.py:4: SettingWithCopyWarning: \n",
      "A value is trying to be set on a copy of a slice from a DataFrame.\n",
      "Try using .loc[row_indexer,col_indexer] = value instead\n",
      "\n",
      "See the caveats in the documentation: https://pandas.pydata.org/pandas-docs/stable/user_guide/indexing.html#returning-a-view-versus-a-copy\n",
      "  df_yt['cleaned_description'] = df_yt['cleaned_description'].apply(lambda x: re.sub('[^A-Za-z0-9]+', ' ', x))\n"
     ]
    }
   ],
   "source": [
    "import re\n",
    "\n",
    "df_yt['cleaned_description'] = df_yt['string_description'].apply(lambda x: x.lower())\n",
    "df_yt['cleaned_description'] = df_yt['cleaned_description'].apply(lambda x: re.sub('[^A-Za-z0-9]+', ' ', x))"
   ]
  },
  {
   "cell_type": "code",
   "execution_count": 24,
   "id": "2bb49e23",
   "metadata": {},
   "outputs": [
    {
     "data": {
      "text/html": [
       "<div>\n",
       "<style scoped>\n",
       "    .dataframe tbody tr th:only-of-type {\n",
       "        vertical-align: middle;\n",
       "    }\n",
       "\n",
       "    .dataframe tbody tr th {\n",
       "        vertical-align: top;\n",
       "    }\n",
       "\n",
       "    .dataframe thead th {\n",
       "        text-align: right;\n",
       "    }\n",
       "</style>\n",
       "<table border=\"1\" class=\"dataframe\">\n",
       "  <thead>\n",
       "    <tr style=\"text-align: right;\">\n",
       "      <th></th>\n",
       "      <th>title</th>\n",
       "      <th>description</th>\n",
       "      <th>string_description</th>\n",
       "      <th>cleaned_description</th>\n",
       "    </tr>\n",
       "  </thead>\n",
       "  <tbody>\n",
       "    <tr>\n",
       "      <th>0</th>\n",
       "      <td>Beemster Gouda - Aged 18/24 Months - App. 1.5 Lbs</td>\n",
       "      <td>[BEEMSTER GOUDA CHEESE AGED 18/24 MONTHS, Stat...</td>\n",
       "      <td>BEEMSTER GOUDA CHEESE AGED 18/24 MONTHS Statem...</td>\n",
       "      <td>beemster gouda cheese aged 18 24 months statem...</td>\n",
       "    </tr>\n",
       "    <tr>\n",
       "      <th>1</th>\n",
       "      <td>Trim Healthy Mama Xylitol</td>\n",
       "      <td>[Shipped from UK, please allow 10 to 21 busine...</td>\n",
       "      <td>Shipped from UK, please allow 10 to 21 busines...</td>\n",
       "      <td>shipped from uk please allow 10 to 21 business...</td>\n",
       "    </tr>\n",
       "    <tr>\n",
       "      <th>2</th>\n",
       "      <td>Letter C - Swarovski Crystal Monogram Wedding ...</td>\n",
       "      <td>[Jazz up your cakes with a sparkling monogram ...</td>\n",
       "      <td>Jazz up your cakes with a sparkling monogram f...</td>\n",
       "      <td>jazz up your cakes with a sparkling monogram f...</td>\n",
       "    </tr>\n",
       "    <tr>\n",
       "      <th>3</th>\n",
       "      <td>Letter H - Swarovski Crystal Monogram Wedding ...</td>\n",
       "      <td>[Large Letter - Height 4.75\"]</td>\n",
       "      <td>Large Letter - Height 4.75\"</td>\n",
       "      <td>large letter height 4 75</td>\n",
       "    </tr>\n",
       "    <tr>\n",
       "      <th>4</th>\n",
       "      <td>Letter S - Swarovski Crystal Monogram Wedding ...</td>\n",
       "      <td>[4.75\"]</td>\n",
       "      <td>4.75\"</td>\n",
       "      <td>4 75</td>\n",
       "    </tr>\n",
       "    <tr>\n",
       "      <th>...</th>\n",
       "      <td>...</td>\n",
       "      <td>...</td>\n",
       "      <td>...</td>\n",
       "      <td>...</td>\n",
       "    </tr>\n",
       "    <tr>\n",
       "      <th>287046</th>\n",
       "      <td>Caffarel Fruit Jellies, Organic Assorted, 200 ...</td>\n",
       "      <td>[Caffarel fruit jellies are a product of Italy...</td>\n",
       "      <td>Caffarel fruit jellies are a product of Italy....</td>\n",
       "      <td>caffarel fruit jellies are a product of italy ...</td>\n",
       "    </tr>\n",
       "    <tr>\n",
       "      <th>287047</th>\n",
       "      <td>HAMPTON CREEK Spo Just Truffle Mayo, 12 Ounce</td>\n",
       "      <td>[Hampton Creeks Just Mayo Truffle makes fancy ...</td>\n",
       "      <td>Hampton Creeks Just Mayo Truffle makes fancy f...</td>\n",
       "      <td>hampton creeks just mayo truffle makes fancy f...</td>\n",
       "    </tr>\n",
       "    <tr>\n",
       "      <th>287048</th>\n",
       "      <td>HAMPTON CREEK Just Ranch Dressing, 12 Fluid Ounce</td>\n",
       "      <td>[Nothing compares with the classically zesty f...</td>\n",
       "      <td>Nothing compares with the classically zesty fl...</td>\n",
       "      <td>nothing compares with the classically zesty fl...</td>\n",
       "    </tr>\n",
       "    <tr>\n",
       "      <th>287049</th>\n",
       "      <td>Gourmet Pure Vanilla Bean Pastes - Organically...</td>\n",
       "      <td>[]</td>\n",
       "      <td></td>\n",
       "      <td></td>\n",
       "    </tr>\n",
       "    <tr>\n",
       "      <th>287050</th>\n",
       "      <td>McClure's Pickles Bloody Mary Mix-Spicy-32 oz ...</td>\n",
       "      <td>[McClures Spicy Bloody Mary Mix Pickles, 32 Ou...</td>\n",
       "      <td>McClures Spicy Bloody Mary Mix Pickles, 32 Oun...</td>\n",
       "      <td>mcclures spicy bloody mary mix pickles 32 ounc...</td>\n",
       "    </tr>\n",
       "  </tbody>\n",
       "</table>\n",
       "<p>287051 rows × 4 columns</p>\n",
       "</div>"
      ],
      "text/plain": [
       "                                                    title  \\\n",
       "0       Beemster Gouda - Aged 18/24 Months - App. 1.5 Lbs   \n",
       "1                               Trim Healthy Mama Xylitol   \n",
       "2       Letter C - Swarovski Crystal Monogram Wedding ...   \n",
       "3       Letter H - Swarovski Crystal Monogram Wedding ...   \n",
       "4       Letter S - Swarovski Crystal Monogram Wedding ...   \n",
       "...                                                   ...   \n",
       "287046  Caffarel Fruit Jellies, Organic Assorted, 200 ...   \n",
       "287047      HAMPTON CREEK Spo Just Truffle Mayo, 12 Ounce   \n",
       "287048  HAMPTON CREEK Just Ranch Dressing, 12 Fluid Ounce   \n",
       "287049  Gourmet Pure Vanilla Bean Pastes - Organically...   \n",
       "287050  McClure's Pickles Bloody Mary Mix-Spicy-32 oz ...   \n",
       "\n",
       "                                              description  \\\n",
       "0       [BEEMSTER GOUDA CHEESE AGED 18/24 MONTHS, Stat...   \n",
       "1       [Shipped from UK, please allow 10 to 21 busine...   \n",
       "2       [Jazz up your cakes with a sparkling monogram ...   \n",
       "3                           [Large Letter - Height 4.75\"]   \n",
       "4                                                 [4.75\"]   \n",
       "...                                                   ...   \n",
       "287046  [Caffarel fruit jellies are a product of Italy...   \n",
       "287047  [Hampton Creeks Just Mayo Truffle makes fancy ...   \n",
       "287048  [Nothing compares with the classically zesty f...   \n",
       "287049                                                 []   \n",
       "287050  [McClures Spicy Bloody Mary Mix Pickles, 32 Ou...   \n",
       "\n",
       "                                       string_description  \\\n",
       "0       BEEMSTER GOUDA CHEESE AGED 18/24 MONTHS Statem...   \n",
       "1       Shipped from UK, please allow 10 to 21 busines...   \n",
       "2       Jazz up your cakes with a sparkling monogram f...   \n",
       "3                             Large Letter - Height 4.75\"   \n",
       "4                                                   4.75\"   \n",
       "...                                                   ...   \n",
       "287046  Caffarel fruit jellies are a product of Italy....   \n",
       "287047  Hampton Creeks Just Mayo Truffle makes fancy f...   \n",
       "287048  Nothing compares with the classically zesty fl...   \n",
       "287049                                                      \n",
       "287050  McClures Spicy Bloody Mary Mix Pickles, 32 Oun...   \n",
       "\n",
       "                                      cleaned_description  \n",
       "0       beemster gouda cheese aged 18 24 months statem...  \n",
       "1       shipped from uk please allow 10 to 21 business...  \n",
       "2       jazz up your cakes with a sparkling monogram f...  \n",
       "3                               large letter height 4 75   \n",
       "4                                                   4 75   \n",
       "...                                                   ...  \n",
       "287046  caffarel fruit jellies are a product of italy ...  \n",
       "287047  hampton creeks just mayo truffle makes fancy f...  \n",
       "287048  nothing compares with the classically zesty fl...  \n",
       "287049                                                     \n",
       "287050  mcclures spicy bloody mary mix pickles 32 ounc...  \n",
       "\n",
       "[287051 rows x 4 columns]"
      ]
     },
     "execution_count": 24,
     "metadata": {},
     "output_type": "execute_result"
    }
   ],
   "source": [
    "df_yt"
   ]
  },
  {
   "cell_type": "code",
   "execution_count": 27,
   "id": "52f8328e",
   "metadata": {},
   "outputs": [
    {
     "name": "stdout",
     "output_type": "stream",
     "text": [
      "Collecting tensorflow_hub\n",
      "  Downloading tensorflow_hub-0.12.0-py2.py3-none-any.whl (108 kB)\n",
      "\u001b[K     |████████████████████████████████| 108 kB 5.2 MB/s eta 0:00:01\n",
      "\u001b[?25hCollecting protobuf>=3.8.0\n",
      "  Downloading protobuf-4.21.2-cp37-abi3-manylinux2014_x86_64.whl (407 kB)\n",
      "\u001b[K     |████████████████████████████████| 407 kB 29.9 MB/s eta 0:00:01\n",
      "\u001b[?25hRequirement already satisfied: numpy>=1.12.0 in /home/cuai5th/anaconda3/lib/python3.9/site-packages (from tensorflow_hub) (1.20.3)\n",
      "Installing collected packages: protobuf, tensorflow-hub\n",
      "Successfully installed protobuf-4.21.2 tensorflow-hub-0.12.0\n"
     ]
    }
   ],
   "source": [
    "!pip install --upgrade tensorflow_hub"
   ]
  },
  {
   "cell_type": "code",
   "execution_count": 30,
   "id": "9231a18b",
   "metadata": {},
   "outputs": [
    {
     "name": "stdout",
     "output_type": "stream",
     "text": [
      "\n",
      "\n",
      "Failed to import tensorflow. Please note that tensorflow is not installed by default when you install tensorflow_hub. This is so that users can decide which tensorflow package to use. To use tensorflow_hub, please install a current version of tensorflow by following the instructions at https://tensorflow.org/install and https://tensorflow.org/hub/installation.\n",
      "\n",
      "\n"
     ]
    },
    {
     "ename": "ModuleNotFoundError",
     "evalue": "No module named 'tensorflow'",
     "output_type": "error",
     "traceback": [
      "\u001b[0;31m---------------------------------------------------------------------------\u001b[0m",
      "\u001b[0;31mModuleNotFoundError\u001b[0m                       Traceback (most recent call last)",
      "\u001b[0;32m/tmp/ipykernel_45169/3897380841.py\u001b[0m in \u001b[0;36m<module>\u001b[0;34m\u001b[0m\n\u001b[0;32m----> 1\u001b[0;31m \u001b[0;32mimport\u001b[0m \u001b[0mtensorflow_hub\u001b[0m \u001b[0;32mas\u001b[0m \u001b[0mhub\u001b[0m\u001b[0;34m\u001b[0m\u001b[0;34m\u001b[0m\u001b[0m\n\u001b[0m",
      "\u001b[0;32m~/anaconda3/lib/python3.9/site-packages/tensorflow_hub/__init__.py\u001b[0m in \u001b[0;36m<module>\u001b[0;34m\u001b[0m\n\u001b[1;32m     83\u001b[0m             present=tf.__version__))\n\u001b[1;32m     84\u001b[0m \u001b[0;34m\u001b[0m\u001b[0m\n\u001b[0;32m---> 85\u001b[0;31m \u001b[0m_ensure_tf_install\u001b[0m\u001b[0;34m(\u001b[0m\u001b[0;34m)\u001b[0m\u001b[0;34m\u001b[0m\u001b[0;34m\u001b[0m\u001b[0m\n\u001b[0m\u001b[1;32m     86\u001b[0m \u001b[0;34m\u001b[0m\u001b[0m\n\u001b[1;32m     87\u001b[0m \u001b[0;34m\u001b[0m\u001b[0m\n",
      "\u001b[0;32m~/anaconda3/lib/python3.9/site-packages/tensorflow_hub/__init__.py\u001b[0m in \u001b[0;36m_ensure_tf_install\u001b[0;34m()\u001b[0m\n\u001b[1;32m     47\u001b[0m   \"\"\"\n\u001b[1;32m     48\u001b[0m   \u001b[0;32mtry\u001b[0m\u001b[0;34m:\u001b[0m\u001b[0;34m\u001b[0m\u001b[0;34m\u001b[0m\u001b[0m\n\u001b[0;32m---> 49\u001b[0;31m     \u001b[0;32mimport\u001b[0m \u001b[0mtensorflow\u001b[0m \u001b[0;32mas\u001b[0m \u001b[0mtf\u001b[0m\u001b[0;34m\u001b[0m\u001b[0;34m\u001b[0m\u001b[0m\n\u001b[0m\u001b[1;32m     50\u001b[0m   \u001b[0;32mexcept\u001b[0m \u001b[0mImportError\u001b[0m\u001b[0;34m:\u001b[0m\u001b[0;34m\u001b[0m\u001b[0;34m\u001b[0m\u001b[0m\n\u001b[1;32m     51\u001b[0m     \u001b[0;31m# Print more informative error message, then reraise.\u001b[0m\u001b[0;34m\u001b[0m\u001b[0;34m\u001b[0m\u001b[0m\n",
      "\u001b[0;31mModuleNotFoundError\u001b[0m: No module named 'tensorflow'"
     ]
    }
   ],
   "source": [
    "import tensorflow_hub as hub"
   ]
  },
  {
   "cell_type": "code",
   "execution_count": 29,
   "id": "7064d374",
   "metadata": {},
   "outputs": [
    {
     "name": "stdout",
     "output_type": "stream",
     "text": [
      "\n",
      "\n",
      "Failed to import tensorflow. Please note that tensorflow is not installed by default when you install tensorflow_hub. This is so that users can decide which tensorflow package to use. To use tensorflow_hub, please install a current version of tensorflow by following the instructions at https://tensorflow.org/install and https://tensorflow.org/hub/installation.\n",
      "\n",
      "\n"
     ]
    },
    {
     "ename": "ModuleNotFoundError",
     "evalue": "No module named 'tensorflow'",
     "output_type": "error",
     "traceback": [
      "\u001b[0;31m---------------------------------------------------------------------------\u001b[0m",
      "\u001b[0;31mModuleNotFoundError\u001b[0m                       Traceback (most recent call last)",
      "\u001b[0;32m/tmp/ipykernel_45169/601994683.py\u001b[0m in \u001b[0;36m<module>\u001b[0;34m\u001b[0m\n\u001b[0;32m----> 1\u001b[0;31m \u001b[0;32mimport\u001b[0m \u001b[0mtensorflow_hub\u001b[0m \u001b[0;32mas\u001b[0m \u001b[0mhub\u001b[0m\u001b[0;34m\u001b[0m\u001b[0;34m\u001b[0m\u001b[0m\n\u001b[0m\u001b[1;32m      2\u001b[0m \u001b[0;34m\u001b[0m\u001b[0m\n\u001b[1;32m      3\u001b[0m \u001b[0mpreprocessor\u001b[0m \u001b[0;34m=\u001b[0m \u001b[0mhub\u001b[0m\u001b[0;34m.\u001b[0m\u001b[0mKerasLayer\u001b[0m\u001b[0;34m(\u001b[0m\u001b[0;34m\"https://tfhub.dev/tensorflow/bert_en_uncased_preprocess/3\"\u001b[0m\u001b[0;34m)\u001b[0m\u001b[0;34m\u001b[0m\u001b[0;34m\u001b[0m\u001b[0m\n\u001b[1;32m      4\u001b[0m \u001b[0mencoder\u001b[0m \u001b[0;34m=\u001b[0m \u001b[0mhub\u001b[0m\u001b[0;34m.\u001b[0m\u001b[0mKerasLayer\u001b[0m\u001b[0;34m(\u001b[0m\u001b[0;34m\"https://tfhub.dev/tensorflow/small_bert/bert_en_uncased_L-2_H-128_A-2/1\"\u001b[0m\u001b[0;34m,\u001b[0m \u001b[0mtrainable\u001b[0m\u001b[0;34m=\u001b[0m\u001b[0;32mTrue\u001b[0m\u001b[0;34m)\u001b[0m\u001b[0;34m\u001b[0m\u001b[0;34m\u001b[0m\u001b[0m\n\u001b[1;32m      5\u001b[0m \u001b[0;34m\u001b[0m\u001b[0m\n",
      "\u001b[0;32m~/anaconda3/lib/python3.9/site-packages/tensorflow_hub/__init__.py\u001b[0m in \u001b[0;36m<module>\u001b[0;34m\u001b[0m\n\u001b[1;32m     83\u001b[0m             present=tf.__version__))\n\u001b[1;32m     84\u001b[0m \u001b[0;34m\u001b[0m\u001b[0m\n\u001b[0;32m---> 85\u001b[0;31m \u001b[0m_ensure_tf_install\u001b[0m\u001b[0;34m(\u001b[0m\u001b[0;34m)\u001b[0m\u001b[0;34m\u001b[0m\u001b[0;34m\u001b[0m\u001b[0m\n\u001b[0m\u001b[1;32m     86\u001b[0m \u001b[0;34m\u001b[0m\u001b[0m\n\u001b[1;32m     87\u001b[0m \u001b[0;34m\u001b[0m\u001b[0m\n",
      "\u001b[0;32m~/anaconda3/lib/python3.9/site-packages/tensorflow_hub/__init__.py\u001b[0m in \u001b[0;36m_ensure_tf_install\u001b[0;34m()\u001b[0m\n\u001b[1;32m     47\u001b[0m   \"\"\"\n\u001b[1;32m     48\u001b[0m   \u001b[0;32mtry\u001b[0m\u001b[0;34m:\u001b[0m\u001b[0;34m\u001b[0m\u001b[0;34m\u001b[0m\u001b[0m\n\u001b[0;32m---> 49\u001b[0;31m     \u001b[0;32mimport\u001b[0m \u001b[0mtensorflow\u001b[0m \u001b[0;32mas\u001b[0m \u001b[0mtf\u001b[0m\u001b[0;34m\u001b[0m\u001b[0;34m\u001b[0m\u001b[0m\n\u001b[0m\u001b[1;32m     50\u001b[0m   \u001b[0;32mexcept\u001b[0m \u001b[0mImportError\u001b[0m\u001b[0;34m:\u001b[0m\u001b[0;34m\u001b[0m\u001b[0;34m\u001b[0m\u001b[0m\n\u001b[1;32m     51\u001b[0m     \u001b[0;31m# Print more informative error message, then reraise.\u001b[0m\u001b[0;34m\u001b[0m\u001b[0;34m\u001b[0m\u001b[0m\n",
      "\u001b[0;31mModuleNotFoundError\u001b[0m: No module named 'tensorflow'"
     ]
    }
   ],
   "source": [
    "import tensorflow_hub as hub\n",
    "\n",
    "preprocessor = hub.KerasLayer(\"https://tfhub.dev/tensorflow/bert_en_uncased_preprocess/3\")\n",
    "encoder = hub.KerasLayer(\"https://tfhub.dev/tensorflow/small_bert/bert_en_uncased_L-2_H-128_A-2/1\", trainable=True)\n",
    "\n",
    "def get_bert_embeddings(text, preprocessor, encoder):\n",
    "\n",
    "  text_input = tf.keras.layers.Input(shape=(), dtype=tf.string)\n",
    "  encoder_inputs = preprocessor(text_input)\n",
    "  outputs = encoder(encoder_inputs)\n",
    "  embedding_model = tf.keras.Model(text_input, outputs['pooled_output'])\n",
    "  sentences = tf.constant([text])\n",
    "  return embedding_model(sentences)\n",
    "\n",
    "df_yt['encodings'] = df_yt['cleaned_description'].apply(lambda x: get_bert_embeddings(x, preprocessor, encoder))\n"
   ]
  },
  {
   "cell_type": "code",
   "execution_count": null,
   "id": "a06522ab",
   "metadata": {},
   "outputs": [],
   "source": []
  }
 ],
 "metadata": {
  "kernelspec": {
   "display_name": "Python 3 (ipykernel)",
   "language": "python",
   "name": "python3"
  },
  "language_info": {
   "codemirror_mode": {
    "name": "ipython",
    "version": 3
   },
   "file_extension": ".py",
   "mimetype": "text/x-python",
   "name": "python",
   "nbconvert_exporter": "python",
   "pygments_lexer": "ipython3",
   "version": "3.9.7"
  }
 },
 "nbformat": 4,
 "nbformat_minor": 5
}
