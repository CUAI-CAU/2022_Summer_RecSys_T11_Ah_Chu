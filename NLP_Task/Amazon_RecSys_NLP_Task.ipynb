{
 "cells": [
  {
   "cell_type": "code",
   "execution_count": 1,
   "id": "21be312e",
   "metadata": {},
   "outputs": [],
   "source": [
    "import pandas as pd"
   ]
  },
  {
   "cell_type": "code",
   "execution_count": 2,
   "id": "ccf9b2f7",
   "metadata": {},
   "outputs": [],
   "source": [
    "df=pd.read_csv('meta_GaGF_over_30_5.csv')"
   ]
  },
  {
   "cell_type": "markdown",
   "id": "a591ff3d",
   "metadata": {},
   "source": [
    "## 필요한 column만 남기고 삭제"
   ]
  },
  {
   "cell_type": "code",
   "execution_count": 4,
   "id": "76a82fe2",
   "metadata": {},
   "outputs": [],
   "source": [
    "df_yt = df[['title', 'asin', 'description', 'category', 'price']]"
   ]
  },
  {
   "cell_type": "code",
   "execution_count": 6,
   "id": "48e67b81",
   "metadata": {},
   "outputs": [],
   "source": [
    "df_yt = df_yt.drop_duplicates(['asin'])"
   ]
  },
  {
   "cell_type": "code",
   "execution_count": 7,
   "id": "9b30bba1",
   "metadata": {},
   "outputs": [
    {
     "data": {
      "text/plain": [
       "6786"
      ]
     },
     "execution_count": 7,
     "metadata": {},
     "output_type": "execute_result"
    }
   ],
   "source": [
    "len(df)"
   ]
  },
  {
   "cell_type": "code",
   "execution_count": 8,
   "id": "5ca65b05",
   "metadata": {},
   "outputs": [
    {
     "data": {
      "text/plain": [
       "6661"
      ]
     },
     "execution_count": 8,
     "metadata": {},
     "output_type": "execute_result"
    }
   ],
   "source": [
    "len(df_yt)"
   ]
  },
  {
   "cell_type": "code",
   "execution_count": 9,
   "id": "603b320f",
   "metadata": {},
   "outputs": [],
   "source": [
    "def listToString(str_list):\n",
    "    result=\"\"\n",
    "    for s in str_list:\n",
    "        result+=s+\" \"\n",
    "    return result.strip()"
   ]
  },
  {
   "cell_type": "code",
   "execution_count": 10,
   "id": "88d869f1",
   "metadata": {},
   "outputs": [
    {
     "name": "stderr",
     "output_type": "stream",
     "text": [
      "C:\\Users\\JS\\AppData\\Local\\Temp\\ipykernel_9840\\642089620.py:4: SettingWithCopyWarning: \n",
      "A value is trying to be set on a copy of a slice from a DataFrame.\n",
      "Try using .loc[row_indexer,col_indexer] = value instead\n",
      "\n",
      "See the caveats in the documentation: https://pandas.pydata.org/pandas-docs/stable/user_guide/indexing.html#returning-a-view-versus-a-copy\n",
      "  df_yt['string_description'] = df_yt['description'].apply(lambda x : ast.literal_eval(x))\n",
      "C:\\Users\\JS\\AppData\\Local\\Temp\\ipykernel_9840\\642089620.py:5: SettingWithCopyWarning: \n",
      "A value is trying to be set on a copy of a slice from a DataFrame.\n",
      "Try using .loc[row_indexer,col_indexer] = value instead\n",
      "\n",
      "See the caveats in the documentation: https://pandas.pydata.org/pandas-docs/stable/user_guide/indexing.html#returning-a-view-versus-a-copy\n",
      "  df_yt['cleaned_description'] = df_yt['string_description'].apply(lambda x: listToString(x))\n",
      "C:\\Users\\JS\\AppData\\Local\\Temp\\ipykernel_9840\\642089620.py:6: SettingWithCopyWarning: \n",
      "A value is trying to be set on a copy of a slice from a DataFrame.\n",
      "Try using .loc[row_indexer,col_indexer] = value instead\n",
      "\n",
      "See the caveats in the documentation: https://pandas.pydata.org/pandas-docs/stable/user_guide/indexing.html#returning-a-view-versus-a-copy\n",
      "  df_yt['pre_descripiton'] = df_yt['cleaned_description'].apply(lambda x: x.lower())\n",
      "C:\\Users\\JS\\AppData\\Local\\Temp\\ipykernel_9840\\642089620.py:7: SettingWithCopyWarning: \n",
      "A value is trying to be set on a copy of a slice from a DataFrame.\n",
      "Try using .loc[row_indexer,col_indexer] = value instead\n",
      "\n",
      "See the caveats in the documentation: https://pandas.pydata.org/pandas-docs/stable/user_guide/indexing.html#returning-a-view-versus-a-copy\n",
      "  df_yt['final_description']= df_yt['pre_descripiton'].apply(lambda x: re.sub('[^A-Za-z0-9]+', ' ', x))\n"
     ]
    }
   ],
   "source": [
    "import ast\n",
    "import re\n",
    "\n",
    "df_yt['string_description'] = df_yt['description'].apply(lambda x : ast.literal_eval(x))\n",
    "df_yt['cleaned_description'] = df_yt['string_description'].apply(lambda x: listToString(x))\n",
    "df_yt['pre_descripiton'] = df_yt['cleaned_description'].apply(lambda x: x.lower())\n",
    "df_yt['final_description']= df_yt['pre_descripiton'].apply(lambda x: re.sub('[^A-Za-z0-9]+', ' ', x))"
   ]
  },
  {
   "cell_type": "code",
   "execution_count": 11,
   "id": "4141bf21",
   "metadata": {},
   "outputs": [],
   "source": [
    "df_yt = df_yt[['title', 'asin', 'final_description', 'category', 'price']]"
   ]
  },
  {
   "cell_type": "code",
   "execution_count": 12,
   "id": "9ca535fa",
   "metadata": {},
   "outputs": [
    {
     "data": {
      "text/html": [
       "<div>\n",
       "<style scoped>\n",
       "    .dataframe tbody tr th:only-of-type {\n",
       "        vertical-align: middle;\n",
       "    }\n",
       "\n",
       "    .dataframe tbody tr th {\n",
       "        vertical-align: top;\n",
       "    }\n",
       "\n",
       "    .dataframe thead th {\n",
       "        text-align: right;\n",
       "    }\n",
       "</style>\n",
       "<table border=\"1\" class=\"dataframe\">\n",
       "  <thead>\n",
       "    <tr style=\"text-align: right;\">\n",
       "      <th></th>\n",
       "      <th>title</th>\n",
       "      <th>asin</th>\n",
       "      <th>final_description</th>\n",
       "      <th>category</th>\n",
       "      <th>price</th>\n",
       "    </tr>\n",
       "  </thead>\n",
       "  <tbody>\n",
       "    <tr>\n",
       "      <th>0</th>\n",
       "      <td>Lipton Yellow Label Tea (loose tea) - 450g</td>\n",
       "      <td>4639725043</td>\n",
       "      <td>lipton yellow label tea use only the finest te...</td>\n",
       "      <td>['Grocery &amp; Gourmet Food', 'Beverages', 'Coffe...</td>\n",
       "      <td>$12.46</td>\n",
       "    </tr>\n",
       "    <tr>\n",
       "      <th>1</th>\n",
       "      <td>Mae Ploy Green Curry Paste, 14 oz</td>\n",
       "      <td>9742356831</td>\n",
       "      <td>mae ploy thai green curry paste ingredients gr...</td>\n",
       "      <td>['Grocery &amp; Gourmet Food', 'Sauces, Gravies &amp; ...</td>\n",
       "      <td>NaN</td>\n",
       "    </tr>\n",
       "    <tr>\n",
       "      <th>2</th>\n",
       "      <td>WHOPPERS Candy (Chocolate Covered Malted Milk ...</td>\n",
       "      <td>B00005BPQ9</td>\n",
       "      <td>whoppers malted milk balls are the classic con...</td>\n",
       "      <td>['Grocery &amp; Gourmet Food', 'Candy &amp; Chocolate'...</td>\n",
       "      <td>NaN</td>\n",
       "    </tr>\n",
       "    <tr>\n",
       "      <th>3</th>\n",
       "      <td>PowerBar Performance Energy Bar, Chocolate, 2....</td>\n",
       "      <td>B00006BN4U</td>\n",
       "      <td>100 dv energy releasing b vitamins 320mg elect...</td>\n",
       "      <td>['Grocery &amp; Gourmet Food', 'Breakfast Foods', ...</td>\n",
       "      <td>$40.85</td>\n",
       "    </tr>\n",
       "    <tr>\n",
       "      <th>4</th>\n",
       "      <td>Wilton Jimmies Rainbow Sprinkle Assortment, 3....</td>\n",
       "      <td>B00006FMLY</td>\n",
       "      <td>sprinkle your treats with sweet color using th...</td>\n",
       "      <td>['Grocery &amp; Gourmet Food', 'Cooking &amp; Baking',...</td>\n",
       "      <td>$10.41</td>\n",
       "    </tr>\n",
       "    <tr>\n",
       "      <th>...</th>\n",
       "      <td>...</td>\n",
       "      <td>...</td>\n",
       "      <td>...</td>\n",
       "      <td>...</td>\n",
       "      <td>...</td>\n",
       "    </tr>\n",
       "    <tr>\n",
       "      <th>6781</th>\n",
       "      <td>Kirkland Signature Supreme Whole Almonds, 2 Pa...</td>\n",
       "      <td>B01H6IQING</td>\n",
       "      <td>kirkland signature supreme whole almonds 2 pac...</td>\n",
       "      <td>['Grocery &amp; Gourmet Food', 'Cooking &amp; Baking',...</td>\n",
       "      <td>$38.98</td>\n",
       "    </tr>\n",
       "    <tr>\n",
       "      <th>6782</th>\n",
       "      <td>Kuli Kuli Moringa Green Energy Shots, Raspberr...</td>\n",
       "      <td>B01H6JO1EI</td>\n",
       "      <td>meet moringa the super green more nutritious t...</td>\n",
       "      <td>['Grocery &amp; Gourmet Food', 'Breakfast Foods', ...</td>\n",
       "      <td>$24.96</td>\n",
       "    </tr>\n",
       "    <tr>\n",
       "      <th>6783</th>\n",
       "      <td>Grass Run Farms 100% Grass-Fed Gluten-Free- No...</td>\n",
       "      <td>B01HCV88MQ</td>\n",
       "      <td>grass run farms 100 grass fed beef sticks prov...</td>\n",
       "      <td>['Grocery &amp; Gourmet Food', 'Snack Foods', 'Jer...</td>\n",
       "      <td>NaN</td>\n",
       "    </tr>\n",
       "    <tr>\n",
       "      <th>6784</th>\n",
       "      <td>Nescafe Taster's Choice Instant Coffee Beverag...</td>\n",
       "      <td>B01HGBAFNC</td>\n",
       "      <td></td>\n",
       "      <td>['Grocery &amp; Gourmet Food', 'Beverages', 'Coffe...</td>\n",
       "      <td>NaN</td>\n",
       "    </tr>\n",
       "    <tr>\n",
       "      <th>6785</th>\n",
       "      <td>Wild Soil Almonds - Distinct and Superior to O...</td>\n",
       "      <td>B01HH79XRE</td>\n",
       "      <td></td>\n",
       "      <td>['Grocery &amp; Gourmet Food', 'Cooking &amp; Baking',...</td>\n",
       "      <td>NaN</td>\n",
       "    </tr>\n",
       "  </tbody>\n",
       "</table>\n",
       "<p>6661 rows × 5 columns</p>\n",
       "</div>"
      ],
      "text/plain": [
       "                                                  title        asin  \\\n",
       "0            Lipton Yellow Label Tea (loose tea) - 450g  4639725043   \n",
       "1                     Mae Ploy Green Curry Paste, 14 oz  9742356831   \n",
       "2     WHOPPERS Candy (Chocolate Covered Malted Milk ...  B00005BPQ9   \n",
       "3     PowerBar Performance Energy Bar, Chocolate, 2....  B00006BN4U   \n",
       "4     Wilton Jimmies Rainbow Sprinkle Assortment, 3....  B00006FMLY   \n",
       "...                                                 ...         ...   \n",
       "6781  Kirkland Signature Supreme Whole Almonds, 2 Pa...  B01H6IQING   \n",
       "6782  Kuli Kuli Moringa Green Energy Shots, Raspberr...  B01H6JO1EI   \n",
       "6783  Grass Run Farms 100% Grass-Fed Gluten-Free- No...  B01HCV88MQ   \n",
       "6784  Nescafe Taster's Choice Instant Coffee Beverag...  B01HGBAFNC   \n",
       "6785  Wild Soil Almonds - Distinct and Superior to O...  B01HH79XRE   \n",
       "\n",
       "                                      final_description  \\\n",
       "0     lipton yellow label tea use only the finest te...   \n",
       "1     mae ploy thai green curry paste ingredients gr...   \n",
       "2     whoppers malted milk balls are the classic con...   \n",
       "3     100 dv energy releasing b vitamins 320mg elect...   \n",
       "4     sprinkle your treats with sweet color using th...   \n",
       "...                                                 ...   \n",
       "6781  kirkland signature supreme whole almonds 2 pac...   \n",
       "6782  meet moringa the super green more nutritious t...   \n",
       "6783  grass run farms 100 grass fed beef sticks prov...   \n",
       "6784                                                      \n",
       "6785                                                      \n",
       "\n",
       "                                               category   price  \n",
       "0     ['Grocery & Gourmet Food', 'Beverages', 'Coffe...  $12.46  \n",
       "1     ['Grocery & Gourmet Food', 'Sauces, Gravies & ...     NaN  \n",
       "2     ['Grocery & Gourmet Food', 'Candy & Chocolate'...     NaN  \n",
       "3     ['Grocery & Gourmet Food', 'Breakfast Foods', ...  $40.85  \n",
       "4     ['Grocery & Gourmet Food', 'Cooking & Baking',...  $10.41  \n",
       "...                                                 ...     ...  \n",
       "6781  ['Grocery & Gourmet Food', 'Cooking & Baking',...  $38.98  \n",
       "6782  ['Grocery & Gourmet Food', 'Breakfast Foods', ...  $24.96  \n",
       "6783  ['Grocery & Gourmet Food', 'Snack Foods', 'Jer...     NaN  \n",
       "6784  ['Grocery & Gourmet Food', 'Beverages', 'Coffe...     NaN  \n",
       "6785  ['Grocery & Gourmet Food', 'Cooking & Baking',...     NaN  \n",
       "\n",
       "[6661 rows x 5 columns]"
      ]
     },
     "execution_count": 12,
     "metadata": {},
     "output_type": "execute_result"
    }
   ],
   "source": [
    "df_yt"
   ]
  },
  {
   "cell_type": "code",
   "execution_count": 13,
   "id": "78ed0c18",
   "metadata": {},
   "outputs": [],
   "source": [
    "indexNames = df_yt[df_yt['final_description']==''].index\n",
    "df_yt.drop(indexNames , inplace=True)"
   ]
  },
  {
   "cell_type": "code",
   "execution_count": 14,
   "id": "cfeb032e",
   "metadata": {},
   "outputs": [
    {
     "data": {
      "text/plain": [
       "6186"
      ]
     },
     "execution_count": 14,
     "metadata": {},
     "output_type": "execute_result"
    }
   ],
   "source": [
    "len(df_yt)"
   ]
  },
  {
   "cell_type": "code",
   "execution_count": 15,
   "id": "5eba7838",
   "metadata": {},
   "outputs": [
    {
     "data": {
      "text/html": [
       "<div>\n",
       "<style scoped>\n",
       "    .dataframe tbody tr th:only-of-type {\n",
       "        vertical-align: middle;\n",
       "    }\n",
       "\n",
       "    .dataframe tbody tr th {\n",
       "        vertical-align: top;\n",
       "    }\n",
       "\n",
       "    .dataframe thead th {\n",
       "        text-align: right;\n",
       "    }\n",
       "</style>\n",
       "<table border=\"1\" class=\"dataframe\">\n",
       "  <thead>\n",
       "    <tr style=\"text-align: right;\">\n",
       "      <th></th>\n",
       "      <th>title</th>\n",
       "      <th>asin</th>\n",
       "      <th>final_description</th>\n",
       "      <th>category</th>\n",
       "      <th>price</th>\n",
       "    </tr>\n",
       "  </thead>\n",
       "  <tbody>\n",
       "    <tr>\n",
       "      <th>0</th>\n",
       "      <td>Lipton Yellow Label Tea (loose tea) - 450g</td>\n",
       "      <td>4639725043</td>\n",
       "      <td>lipton yellow label tea use only the finest te...</td>\n",
       "      <td>['Grocery &amp; Gourmet Food', 'Beverages', 'Coffe...</td>\n",
       "      <td>$12.46</td>\n",
       "    </tr>\n",
       "    <tr>\n",
       "      <th>1</th>\n",
       "      <td>Mae Ploy Green Curry Paste, 14 oz</td>\n",
       "      <td>9742356831</td>\n",
       "      <td>mae ploy thai green curry paste ingredients gr...</td>\n",
       "      <td>['Grocery &amp; Gourmet Food', 'Sauces, Gravies &amp; ...</td>\n",
       "      <td>NaN</td>\n",
       "    </tr>\n",
       "    <tr>\n",
       "      <th>2</th>\n",
       "      <td>WHOPPERS Candy (Chocolate Covered Malted Milk ...</td>\n",
       "      <td>B00005BPQ9</td>\n",
       "      <td>whoppers malted milk balls are the classic con...</td>\n",
       "      <td>['Grocery &amp; Gourmet Food', 'Candy &amp; Chocolate'...</td>\n",
       "      <td>NaN</td>\n",
       "    </tr>\n",
       "    <tr>\n",
       "      <th>3</th>\n",
       "      <td>PowerBar Performance Energy Bar, Chocolate, 2....</td>\n",
       "      <td>B00006BN4U</td>\n",
       "      <td>100 dv energy releasing b vitamins 320mg elect...</td>\n",
       "      <td>['Grocery &amp; Gourmet Food', 'Breakfast Foods', ...</td>\n",
       "      <td>$40.85</td>\n",
       "    </tr>\n",
       "    <tr>\n",
       "      <th>4</th>\n",
       "      <td>Wilton Jimmies Rainbow Sprinkle Assortment, 3....</td>\n",
       "      <td>B00006FMLY</td>\n",
       "      <td>sprinkle your treats with sweet color using th...</td>\n",
       "      <td>['Grocery &amp; Gourmet Food', 'Cooking &amp; Baking',...</td>\n",
       "      <td>$10.41</td>\n",
       "    </tr>\n",
       "    <tr>\n",
       "      <th>...</th>\n",
       "      <td>...</td>\n",
       "      <td>...</td>\n",
       "      <td>...</td>\n",
       "      <td>...</td>\n",
       "      <td>...</td>\n",
       "    </tr>\n",
       "    <tr>\n",
       "      <th>6779</th>\n",
       "      <td>Peanut Butter &amp;amp; Co Bestie Almond Butter, N...</td>\n",
       "      <td>B01H3VFR6U</td>\n",
       "      <td>div class boost aplus container div class boo...</td>\n",
       "      <td>['Grocery &amp; Gourmet Food', 'Jams, Jellies &amp; Sw...</td>\n",
       "      <td>$68.99</td>\n",
       "    </tr>\n",
       "    <tr>\n",
       "      <th>6780</th>\n",
       "      <td>Country Time Pink Lemonade Drink Mix, 5lb. 2.5oz.</td>\n",
       "      <td>B01H4G38JM</td>\n",
       "      <td>country time pink lemonade mix 82 5 ounce unit...</td>\n",
       "      <td>['Grocery &amp; Gourmet Food', 'Beverages', 'Bottl...</td>\n",
       "      <td>NaN</td>\n",
       "    </tr>\n",
       "    <tr>\n",
       "      <th>6781</th>\n",
       "      <td>Kirkland Signature Supreme Whole Almonds, 2 Pa...</td>\n",
       "      <td>B01H6IQING</td>\n",
       "      <td>kirkland signature supreme whole almonds 2 pac...</td>\n",
       "      <td>['Grocery &amp; Gourmet Food', 'Cooking &amp; Baking',...</td>\n",
       "      <td>$38.98</td>\n",
       "    </tr>\n",
       "    <tr>\n",
       "      <th>6782</th>\n",
       "      <td>Kuli Kuli Moringa Green Energy Shots, Raspberr...</td>\n",
       "      <td>B01H6JO1EI</td>\n",
       "      <td>meet moringa the super green more nutritious t...</td>\n",
       "      <td>['Grocery &amp; Gourmet Food', 'Breakfast Foods', ...</td>\n",
       "      <td>$24.96</td>\n",
       "    </tr>\n",
       "    <tr>\n",
       "      <th>6783</th>\n",
       "      <td>Grass Run Farms 100% Grass-Fed Gluten-Free- No...</td>\n",
       "      <td>B01HCV88MQ</td>\n",
       "      <td>grass run farms 100 grass fed beef sticks prov...</td>\n",
       "      <td>['Grocery &amp; Gourmet Food', 'Snack Foods', 'Jer...</td>\n",
       "      <td>NaN</td>\n",
       "    </tr>\n",
       "  </tbody>\n",
       "</table>\n",
       "<p>6186 rows × 5 columns</p>\n",
       "</div>"
      ],
      "text/plain": [
       "                                                  title        asin  \\\n",
       "0            Lipton Yellow Label Tea (loose tea) - 450g  4639725043   \n",
       "1                     Mae Ploy Green Curry Paste, 14 oz  9742356831   \n",
       "2     WHOPPERS Candy (Chocolate Covered Malted Milk ...  B00005BPQ9   \n",
       "3     PowerBar Performance Energy Bar, Chocolate, 2....  B00006BN4U   \n",
       "4     Wilton Jimmies Rainbow Sprinkle Assortment, 3....  B00006FMLY   \n",
       "...                                                 ...         ...   \n",
       "6779  Peanut Butter &amp; Co Bestie Almond Butter, N...  B01H3VFR6U   \n",
       "6780  Country Time Pink Lemonade Drink Mix, 5lb. 2.5oz.  B01H4G38JM   \n",
       "6781  Kirkland Signature Supreme Whole Almonds, 2 Pa...  B01H6IQING   \n",
       "6782  Kuli Kuli Moringa Green Energy Shots, Raspberr...  B01H6JO1EI   \n",
       "6783  Grass Run Farms 100% Grass-Fed Gluten-Free- No...  B01HCV88MQ   \n",
       "\n",
       "                                      final_description  \\\n",
       "0     lipton yellow label tea use only the finest te...   \n",
       "1     mae ploy thai green curry paste ingredients gr...   \n",
       "2     whoppers malted milk balls are the classic con...   \n",
       "3     100 dv energy releasing b vitamins 320mg elect...   \n",
       "4     sprinkle your treats with sweet color using th...   \n",
       "...                                                 ...   \n",
       "6779   div class boost aplus container div class boo...   \n",
       "6780  country time pink lemonade mix 82 5 ounce unit...   \n",
       "6781  kirkland signature supreme whole almonds 2 pac...   \n",
       "6782  meet moringa the super green more nutritious t...   \n",
       "6783  grass run farms 100 grass fed beef sticks prov...   \n",
       "\n",
       "                                               category   price  \n",
       "0     ['Grocery & Gourmet Food', 'Beverages', 'Coffe...  $12.46  \n",
       "1     ['Grocery & Gourmet Food', 'Sauces, Gravies & ...     NaN  \n",
       "2     ['Grocery & Gourmet Food', 'Candy & Chocolate'...     NaN  \n",
       "3     ['Grocery & Gourmet Food', 'Breakfast Foods', ...  $40.85  \n",
       "4     ['Grocery & Gourmet Food', 'Cooking & Baking',...  $10.41  \n",
       "...                                                 ...     ...  \n",
       "6779  ['Grocery & Gourmet Food', 'Jams, Jellies & Sw...  $68.99  \n",
       "6780  ['Grocery & Gourmet Food', 'Beverages', 'Bottl...     NaN  \n",
       "6781  ['Grocery & Gourmet Food', 'Cooking & Baking',...  $38.98  \n",
       "6782  ['Grocery & Gourmet Food', 'Breakfast Foods', ...  $24.96  \n",
       "6783  ['Grocery & Gourmet Food', 'Snack Foods', 'Jer...     NaN  \n",
       "\n",
       "[6186 rows x 5 columns]"
      ]
     },
     "execution_count": 15,
     "metadata": {},
     "output_type": "execute_result"
    }
   ],
   "source": [
    "df_yt.drop_duplicates(['asin'])"
   ]
  },
  {
   "cell_type": "code",
   "execution_count": 16,
   "id": "5bf47f9e",
   "metadata": {},
   "outputs": [
    {
     "data": {
      "text/plain": [
       "6186"
      ]
     },
     "execution_count": 16,
     "metadata": {},
     "output_type": "execute_result"
    }
   ],
   "source": [
    "len(df_yt)"
   ]
  },
  {
   "cell_type": "markdown",
   "id": "e44a348b",
   "metadata": {},
   "source": [
    "## BERT Embedding"
   ]
  },
  {
   "cell_type": "code",
   "execution_count": 17,
   "id": "b0f08207",
   "metadata": {},
   "outputs": [],
   "source": [
    "from sentence_transformers import SentenceTransformer, models"
   ]
  },
  {
   "cell_type": "code",
   "execution_count": 18,
   "id": "2f242686",
   "metadata": {},
   "outputs": [],
   "source": [
    "sbert_model = SentenceTransformer('bert-base-nli-mean-tokens')"
   ]
  },
  {
   "cell_type": "code",
   "execution_count": 19,
   "id": "c8172026",
   "metadata": {},
   "outputs": [],
   "source": [
    "df_value = df_yt['final_description']"
   ]
  },
  {
   "cell_type": "code",
   "execution_count": 20,
   "id": "97dd5426",
   "metadata": {},
   "outputs": [
    {
     "data": {
      "text/plain": [
       "0       lipton yellow label tea use only the finest te...\n",
       "1       mae ploy thai green curry paste ingredients gr...\n",
       "2       whoppers malted milk balls are the classic con...\n",
       "3       100 dv energy releasing b vitamins 320mg elect...\n",
       "4       sprinkle your treats with sweet color using th...\n",
       "                              ...                        \n",
       "6779     div class boost aplus container div class boo...\n",
       "6780    country time pink lemonade mix 82 5 ounce unit...\n",
       "6781    kirkland signature supreme whole almonds 2 pac...\n",
       "6782    meet moringa the super green more nutritious t...\n",
       "6783    grass run farms 100 grass fed beef sticks prov...\n",
       "Name: final_description, Length: 6186, dtype: object"
      ]
     },
     "execution_count": 20,
     "metadata": {},
     "output_type": "execute_result"
    }
   ],
   "source": [
    "df_value"
   ]
  },
  {
   "cell_type": "code",
   "execution_count": 21,
   "id": "7b5fe409",
   "metadata": {},
   "outputs": [],
   "source": [
    "val_list=df_value.values.tolist()"
   ]
  },
  {
   "cell_type": "code",
   "execution_count": 22,
   "id": "3fd236c0",
   "metadata": {},
   "outputs": [],
   "source": [
    "sentence_embeddings = sbert_model.encode(val_list)"
   ]
  },
  {
   "cell_type": "code",
   "execution_count": 24,
   "id": "577b8a3d",
   "metadata": {},
   "outputs": [
    {
     "data": {
      "text/plain": [
       "(6186, 768)"
      ]
     },
     "execution_count": 24,
     "metadata": {},
     "output_type": "execute_result"
    }
   ],
   "source": [
    "sentence_embeddings.shape"
   ]
  },
  {
   "cell_type": "code",
   "execution_count": 25,
   "id": "fedada9c",
   "metadata": {},
   "outputs": [],
   "source": [
    "s_embedding_list = sentence_embeddings.tolist()"
   ]
  },
  {
   "cell_type": "code",
   "execution_count": 26,
   "id": "a8035f6a",
   "metadata": {},
   "outputs": [],
   "source": [
    "asin_list = df_yt['asin'].values.tolist()"
   ]
  },
  {
   "cell_type": "code",
   "execution_count": 27,
   "id": "23741e2f",
   "metadata": {},
   "outputs": [],
   "source": [
    "df_embedding = pd.DataFrame({'asin' : asin_list, 'embedding' : s_embedding_list})"
   ]
  },
  {
   "cell_type": "code",
   "execution_count": 28,
   "id": "434db799",
   "metadata": {},
   "outputs": [
    {
     "data": {
      "text/html": [
       "<div>\n",
       "<style scoped>\n",
       "    .dataframe tbody tr th:only-of-type {\n",
       "        vertical-align: middle;\n",
       "    }\n",
       "\n",
       "    .dataframe tbody tr th {\n",
       "        vertical-align: top;\n",
       "    }\n",
       "\n",
       "    .dataframe thead th {\n",
       "        text-align: right;\n",
       "    }\n",
       "</style>\n",
       "<table border=\"1\" class=\"dataframe\">\n",
       "  <thead>\n",
       "    <tr style=\"text-align: right;\">\n",
       "      <th></th>\n",
       "      <th>asin</th>\n",
       "      <th>embedding</th>\n",
       "    </tr>\n",
       "  </thead>\n",
       "  <tbody>\n",
       "    <tr>\n",
       "      <th>0</th>\n",
       "      <td>4639725043</td>\n",
       "      <td>[-0.36482325196266174, 0.8115509748458862, -0....</td>\n",
       "    </tr>\n",
       "    <tr>\n",
       "      <th>1</th>\n",
       "      <td>9742356831</td>\n",
       "      <td>[0.32072803378105164, 1.1068389415740967, 0.07...</td>\n",
       "    </tr>\n",
       "    <tr>\n",
       "      <th>2</th>\n",
       "      <td>B00005BPQ9</td>\n",
       "      <td>[-0.8029127717018127, 1.1512556076049805, 0.06...</td>\n",
       "    </tr>\n",
       "    <tr>\n",
       "      <th>3</th>\n",
       "      <td>B00006BN4U</td>\n",
       "      <td>[0.32304733991622925, 1.552841067314148, -0.17...</td>\n",
       "    </tr>\n",
       "    <tr>\n",
       "      <th>4</th>\n",
       "      <td>B00006FMLY</td>\n",
       "      <td>[-1.3537788391113281, 0.6959276795387268, -0.4...</td>\n",
       "    </tr>\n",
       "    <tr>\n",
       "      <th>...</th>\n",
       "      <td>...</td>\n",
       "      <td>...</td>\n",
       "    </tr>\n",
       "    <tr>\n",
       "      <th>6181</th>\n",
       "      <td>B01H3VFR6U</td>\n",
       "      <td>[-0.8585600852966309, 1.205453872680664, -0.49...</td>\n",
       "    </tr>\n",
       "    <tr>\n",
       "      <th>6182</th>\n",
       "      <td>B01H4G38JM</td>\n",
       "      <td>[-1.002007246017456, 0.6213456392288208, -1.11...</td>\n",
       "    </tr>\n",
       "    <tr>\n",
       "      <th>6183</th>\n",
       "      <td>B01H6IQING</td>\n",
       "      <td>[0.38772085309028625, 1.314347267150879, 0.187...</td>\n",
       "    </tr>\n",
       "    <tr>\n",
       "      <th>6184</th>\n",
       "      <td>B01H6JO1EI</td>\n",
       "      <td>[-0.7649469971656799, 0.6929209232330322, -0.9...</td>\n",
       "    </tr>\n",
       "    <tr>\n",
       "      <th>6185</th>\n",
       "      <td>B01HCV88MQ</td>\n",
       "      <td>[0.0764944776892662, 1.0583688020706177, -0.63...</td>\n",
       "    </tr>\n",
       "  </tbody>\n",
       "</table>\n",
       "<p>6186 rows × 2 columns</p>\n",
       "</div>"
      ],
      "text/plain": [
       "            asin                                          embedding\n",
       "0     4639725043  [-0.36482325196266174, 0.8115509748458862, -0....\n",
       "1     9742356831  [0.32072803378105164, 1.1068389415740967, 0.07...\n",
       "2     B00005BPQ9  [-0.8029127717018127, 1.1512556076049805, 0.06...\n",
       "3     B00006BN4U  [0.32304733991622925, 1.552841067314148, -0.17...\n",
       "4     B00006FMLY  [-1.3537788391113281, 0.6959276795387268, -0.4...\n",
       "...          ...                                                ...\n",
       "6181  B01H3VFR6U  [-0.8585600852966309, 1.205453872680664, -0.49...\n",
       "6182  B01H4G38JM  [-1.002007246017456, 0.6213456392288208, -1.11...\n",
       "6183  B01H6IQING  [0.38772085309028625, 1.314347267150879, 0.187...\n",
       "6184  B01H6JO1EI  [-0.7649469971656799, 0.6929209232330322, -0.9...\n",
       "6185  B01HCV88MQ  [0.0764944776892662, 1.0583688020706177, -0.63...\n",
       "\n",
       "[6186 rows x 2 columns]"
      ]
     },
     "execution_count": 28,
     "metadata": {},
     "output_type": "execute_result"
    }
   ],
   "source": [
    "df_embedding"
   ]
  },
  {
   "cell_type": "code",
   "execution_count": 29,
   "id": "d0865fcd",
   "metadata": {},
   "outputs": [
    {
     "data": {
      "text/plain": [
       "6186"
      ]
     },
     "execution_count": 29,
     "metadata": {},
     "output_type": "execute_result"
    }
   ],
   "source": [
    "len(df_yt)"
   ]
  },
  {
   "cell_type": "code",
   "execution_count": 30,
   "id": "a5fb3aea",
   "metadata": {},
   "outputs": [
    {
     "data": {
      "text/plain": [
       "6186"
      ]
     },
     "execution_count": 30,
     "metadata": {},
     "output_type": "execute_result"
    }
   ],
   "source": [
    "len(df_embedding)"
   ]
  },
  {
   "cell_type": "code",
   "execution_count": 31,
   "id": "9b9455a6",
   "metadata": {},
   "outputs": [],
   "source": [
    "merge_df = pd.merge(df_yt, df_embedding, on = 'asin', how = 'inner')"
   ]
  },
  {
   "cell_type": "code",
   "execution_count": 32,
   "id": "755aaafe",
   "metadata": {},
   "outputs": [],
   "source": [
    "df_all = merge_df[['title', 'asin', 'final_description', 'embedding', 'category', 'price']]"
   ]
  },
  {
   "cell_type": "code",
   "execution_count": 33,
   "id": "c7745129",
   "metadata": {},
   "outputs": [
    {
     "data": {
      "text/plain": [
       "6186"
      ]
     },
     "execution_count": 33,
     "metadata": {},
     "output_type": "execute_result"
    }
   ],
   "source": [
    "len(df_all)"
   ]
  },
  {
   "cell_type": "code",
   "execution_count": 34,
   "id": "1b20deca",
   "metadata": {},
   "outputs": [
    {
     "data": {
      "text/html": [
       "<div>\n",
       "<style scoped>\n",
       "    .dataframe tbody tr th:only-of-type {\n",
       "        vertical-align: middle;\n",
       "    }\n",
       "\n",
       "    .dataframe tbody tr th {\n",
       "        vertical-align: top;\n",
       "    }\n",
       "\n",
       "    .dataframe thead th {\n",
       "        text-align: right;\n",
       "    }\n",
       "</style>\n",
       "<table border=\"1\" class=\"dataframe\">\n",
       "  <thead>\n",
       "    <tr style=\"text-align: right;\">\n",
       "      <th></th>\n",
       "      <th>title</th>\n",
       "      <th>asin</th>\n",
       "      <th>final_description</th>\n",
       "      <th>embedding</th>\n",
       "      <th>category</th>\n",
       "      <th>price</th>\n",
       "    </tr>\n",
       "  </thead>\n",
       "  <tbody>\n",
       "    <tr>\n",
       "      <th>0</th>\n",
       "      <td>Lipton Yellow Label Tea (loose tea) - 450g</td>\n",
       "      <td>4639725043</td>\n",
       "      <td>lipton yellow label tea use only the finest te...</td>\n",
       "      <td>[-0.36482325196266174, 0.8115509748458862, -0....</td>\n",
       "      <td>['Grocery &amp; Gourmet Food', 'Beverages', 'Coffe...</td>\n",
       "      <td>$12.46</td>\n",
       "    </tr>\n",
       "    <tr>\n",
       "      <th>1</th>\n",
       "      <td>Mae Ploy Green Curry Paste, 14 oz</td>\n",
       "      <td>9742356831</td>\n",
       "      <td>mae ploy thai green curry paste ingredients gr...</td>\n",
       "      <td>[0.32072803378105164, 1.1068389415740967, 0.07...</td>\n",
       "      <td>['Grocery &amp; Gourmet Food', 'Sauces, Gravies &amp; ...</td>\n",
       "      <td>NaN</td>\n",
       "    </tr>\n",
       "    <tr>\n",
       "      <th>2</th>\n",
       "      <td>WHOPPERS Candy (Chocolate Covered Malted Milk ...</td>\n",
       "      <td>B00005BPQ9</td>\n",
       "      <td>whoppers malted milk balls are the classic con...</td>\n",
       "      <td>[-0.8029127717018127, 1.1512556076049805, 0.06...</td>\n",
       "      <td>['Grocery &amp; Gourmet Food', 'Candy &amp; Chocolate'...</td>\n",
       "      <td>NaN</td>\n",
       "    </tr>\n",
       "    <tr>\n",
       "      <th>3</th>\n",
       "      <td>PowerBar Performance Energy Bar, Chocolate, 2....</td>\n",
       "      <td>B00006BN4U</td>\n",
       "      <td>100 dv energy releasing b vitamins 320mg elect...</td>\n",
       "      <td>[0.32304733991622925, 1.552841067314148, -0.17...</td>\n",
       "      <td>['Grocery &amp; Gourmet Food', 'Breakfast Foods', ...</td>\n",
       "      <td>$40.85</td>\n",
       "    </tr>\n",
       "    <tr>\n",
       "      <th>4</th>\n",
       "      <td>Wilton Jimmies Rainbow Sprinkle Assortment, 3....</td>\n",
       "      <td>B00006FMLY</td>\n",
       "      <td>sprinkle your treats with sweet color using th...</td>\n",
       "      <td>[-1.3537788391113281, 0.6959276795387268, -0.4...</td>\n",
       "      <td>['Grocery &amp; Gourmet Food', 'Cooking &amp; Baking',...</td>\n",
       "      <td>$10.41</td>\n",
       "    </tr>\n",
       "    <tr>\n",
       "      <th>...</th>\n",
       "      <td>...</td>\n",
       "      <td>...</td>\n",
       "      <td>...</td>\n",
       "      <td>...</td>\n",
       "      <td>...</td>\n",
       "      <td>...</td>\n",
       "    </tr>\n",
       "    <tr>\n",
       "      <th>6181</th>\n",
       "      <td>Peanut Butter &amp;amp; Co Bestie Almond Butter, N...</td>\n",
       "      <td>B01H3VFR6U</td>\n",
       "      <td>div class boost aplus container div class boo...</td>\n",
       "      <td>[-0.8585600852966309, 1.205453872680664, -0.49...</td>\n",
       "      <td>['Grocery &amp; Gourmet Food', 'Jams, Jellies &amp; Sw...</td>\n",
       "      <td>$68.99</td>\n",
       "    </tr>\n",
       "    <tr>\n",
       "      <th>6182</th>\n",
       "      <td>Country Time Pink Lemonade Drink Mix, 5lb. 2.5oz.</td>\n",
       "      <td>B01H4G38JM</td>\n",
       "      <td>country time pink lemonade mix 82 5 ounce unit...</td>\n",
       "      <td>[-1.002007246017456, 0.6213456392288208, -1.11...</td>\n",
       "      <td>['Grocery &amp; Gourmet Food', 'Beverages', 'Bottl...</td>\n",
       "      <td>NaN</td>\n",
       "    </tr>\n",
       "    <tr>\n",
       "      <th>6183</th>\n",
       "      <td>Kirkland Signature Supreme Whole Almonds, 2 Pa...</td>\n",
       "      <td>B01H6IQING</td>\n",
       "      <td>kirkland signature supreme whole almonds 2 pac...</td>\n",
       "      <td>[0.38772085309028625, 1.314347267150879, 0.187...</td>\n",
       "      <td>['Grocery &amp; Gourmet Food', 'Cooking &amp; Baking',...</td>\n",
       "      <td>$38.98</td>\n",
       "    </tr>\n",
       "    <tr>\n",
       "      <th>6184</th>\n",
       "      <td>Kuli Kuli Moringa Green Energy Shots, Raspberr...</td>\n",
       "      <td>B01H6JO1EI</td>\n",
       "      <td>meet moringa the super green more nutritious t...</td>\n",
       "      <td>[-0.7649469971656799, 0.6929209232330322, -0.9...</td>\n",
       "      <td>['Grocery &amp; Gourmet Food', 'Breakfast Foods', ...</td>\n",
       "      <td>$24.96</td>\n",
       "    </tr>\n",
       "    <tr>\n",
       "      <th>6185</th>\n",
       "      <td>Grass Run Farms 100% Grass-Fed Gluten-Free- No...</td>\n",
       "      <td>B01HCV88MQ</td>\n",
       "      <td>grass run farms 100 grass fed beef sticks prov...</td>\n",
       "      <td>[0.0764944776892662, 1.0583688020706177, -0.63...</td>\n",
       "      <td>['Grocery &amp; Gourmet Food', 'Snack Foods', 'Jer...</td>\n",
       "      <td>NaN</td>\n",
       "    </tr>\n",
       "  </tbody>\n",
       "</table>\n",
       "<p>6186 rows × 6 columns</p>\n",
       "</div>"
      ],
      "text/plain": [
       "                                                  title        asin  \\\n",
       "0            Lipton Yellow Label Tea (loose tea) - 450g  4639725043   \n",
       "1                     Mae Ploy Green Curry Paste, 14 oz  9742356831   \n",
       "2     WHOPPERS Candy (Chocolate Covered Malted Milk ...  B00005BPQ9   \n",
       "3     PowerBar Performance Energy Bar, Chocolate, 2....  B00006BN4U   \n",
       "4     Wilton Jimmies Rainbow Sprinkle Assortment, 3....  B00006FMLY   \n",
       "...                                                 ...         ...   \n",
       "6181  Peanut Butter &amp; Co Bestie Almond Butter, N...  B01H3VFR6U   \n",
       "6182  Country Time Pink Lemonade Drink Mix, 5lb. 2.5oz.  B01H4G38JM   \n",
       "6183  Kirkland Signature Supreme Whole Almonds, 2 Pa...  B01H6IQING   \n",
       "6184  Kuli Kuli Moringa Green Energy Shots, Raspberr...  B01H6JO1EI   \n",
       "6185  Grass Run Farms 100% Grass-Fed Gluten-Free- No...  B01HCV88MQ   \n",
       "\n",
       "                                      final_description  \\\n",
       "0     lipton yellow label tea use only the finest te...   \n",
       "1     mae ploy thai green curry paste ingredients gr...   \n",
       "2     whoppers malted milk balls are the classic con...   \n",
       "3     100 dv energy releasing b vitamins 320mg elect...   \n",
       "4     sprinkle your treats with sweet color using th...   \n",
       "...                                                 ...   \n",
       "6181   div class boost aplus container div class boo...   \n",
       "6182  country time pink lemonade mix 82 5 ounce unit...   \n",
       "6183  kirkland signature supreme whole almonds 2 pac...   \n",
       "6184  meet moringa the super green more nutritious t...   \n",
       "6185  grass run farms 100 grass fed beef sticks prov...   \n",
       "\n",
       "                                              embedding  \\\n",
       "0     [-0.36482325196266174, 0.8115509748458862, -0....   \n",
       "1     [0.32072803378105164, 1.1068389415740967, 0.07...   \n",
       "2     [-0.8029127717018127, 1.1512556076049805, 0.06...   \n",
       "3     [0.32304733991622925, 1.552841067314148, -0.17...   \n",
       "4     [-1.3537788391113281, 0.6959276795387268, -0.4...   \n",
       "...                                                 ...   \n",
       "6181  [-0.8585600852966309, 1.205453872680664, -0.49...   \n",
       "6182  [-1.002007246017456, 0.6213456392288208, -1.11...   \n",
       "6183  [0.38772085309028625, 1.314347267150879, 0.187...   \n",
       "6184  [-0.7649469971656799, 0.6929209232330322, -0.9...   \n",
       "6185  [0.0764944776892662, 1.0583688020706177, -0.63...   \n",
       "\n",
       "                                               category   price  \n",
       "0     ['Grocery & Gourmet Food', 'Beverages', 'Coffe...  $12.46  \n",
       "1     ['Grocery & Gourmet Food', 'Sauces, Gravies & ...     NaN  \n",
       "2     ['Grocery & Gourmet Food', 'Candy & Chocolate'...     NaN  \n",
       "3     ['Grocery & Gourmet Food', 'Breakfast Foods', ...  $40.85  \n",
       "4     ['Grocery & Gourmet Food', 'Cooking & Baking',...  $10.41  \n",
       "...                                                 ...     ...  \n",
       "6181  ['Grocery & Gourmet Food', 'Jams, Jellies & Sw...  $68.99  \n",
       "6182  ['Grocery & Gourmet Food', 'Beverages', 'Bottl...     NaN  \n",
       "6183  ['Grocery & Gourmet Food', 'Cooking & Baking',...  $38.98  \n",
       "6184  ['Grocery & Gourmet Food', 'Breakfast Foods', ...  $24.96  \n",
       "6185  ['Grocery & Gourmet Food', 'Snack Foods', 'Jer...     NaN  \n",
       "\n",
       "[6186 rows x 6 columns]"
      ]
     },
     "execution_count": 34,
     "metadata": {},
     "output_type": "execute_result"
    }
   ],
   "source": [
    "df_all"
   ]
  },
  {
   "cell_type": "code",
   "execution_count": 35,
   "id": "a79fdba9",
   "metadata": {},
   "outputs": [],
   "source": [
    "df_all.to_csv('meta_30_embedding.csv')"
   ]
  },
  {
   "cell_type": "code",
   "execution_count": null,
   "id": "3d94b4c4",
   "metadata": {},
   "outputs": [],
   "source": []
  }
 ],
 "metadata": {
  "kernelspec": {
   "display_name": "SummerConf22",
   "language": "python",
   "name": "summercomf22"
  },
  "language_info": {
   "codemirror_mode": {
    "name": "ipython",
    "version": 3
   },
   "file_extension": ".py",
   "mimetype": "text/x-python",
   "name": "python",
   "nbconvert_exporter": "python",
   "pygments_lexer": "ipython3",
   "version": "3.8.13"
  }
 },
 "nbformat": 4,
 "nbformat_minor": 5
}
